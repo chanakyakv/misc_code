{
 "cells": [
  {
   "cell_type": "code",
   "execution_count": 1,
   "metadata": {},
   "outputs": [
    {
     "name": "stdout",
     "output_type": "stream",
     "text": [
      "                        _id CH_SYMBOL CH_SERIES CH_MARKET_TYPE  \\\n",
      "0  63b2c77e66a1aa0006536313  RELIANCE        EQ              N   \n",
      "1  63b418e38fecc90007d82764  RELIANCE        EQ              N   \n",
      "2  63b56a62f99d030006fd882e  RELIANCE        EQ              N   \n",
      "3  63b6bbe10274fd0007036817  RELIANCE        EQ              N   \n",
      "4  642831c27a8f1d000733f637  RELIANCE        EQ              N   \n",
      "\n",
      "   CH_TRADE_HIGH_PRICE  CH_TRADE_LOW_PRICE  CH_OPENING_PRICE  \\\n",
      "0              2579.00              2548.2           2550.00   \n",
      "1              2573.00              2547.8           2565.05   \n",
      "2              2561.05              2514.0           2557.00   \n",
      "3              2536.40              2504.0           2523.50   \n",
      "4              2547.95              2518.3           2526.65   \n",
      "\n",
      "   CH_CLOSING_PRICE  CH_LAST_TRADED_PRICE  CH_PREVIOUS_CLS_PRICE  ...  \\\n",
      "0           2575.90               2577.90                2547.20  ...   \n",
      "1           2557.05               2555.80                2575.90  ...   \n",
      "2           2518.55               2516.65                2557.05  ...   \n",
      "3           2514.05               2521.80                2518.55  ...   \n",
      "4           2536.90               2537.00                2514.05  ...   \n",
      "\n",
      "   CH_TOTAL_TRADES       CH_ISIN  CH_TIMESTAMP                 TIMESTAMP  \\\n",
      "0            97175  INE002A01018    2023-01-02  2023-01-01T18:30:00.000Z   \n",
      "1           135268  INE002A01018    2023-01-03  2023-01-02T18:30:00.000Z   \n",
      "2           182754  INE002A01018    2023-01-04  2023-01-03T18:30:00.000Z   \n",
      "3           197434  INE002A01018    2023-01-05  2023-01-04T18:30:00.000Z   \n",
      "4           157118  INE002A01018    2023-01-06  2023-01-05T18:30:00.000Z   \n",
      "\n",
      "                  createdAt                 updatedAt __v SLBMH_TOT_VAL  \\\n",
      "0  2023-01-02T12:01:02.718Z  2023-01-02T12:01:02.718Z   0          None   \n",
      "1  2023-01-03T12:00:35.609Z  2023-01-03T12:00:35.609Z   0          None   \n",
      "2  2023-01-04T12:00:34.950Z  2023-01-04T12:00:34.950Z   0          None   \n",
      "3  2023-01-05T12:00:33.074Z  2023-01-05T12:00:33.074Z   0          None   \n",
      "4  2023-04-01T13:29:38.941Z  2023-04-01T13:29:38.941Z   0          None   \n",
      "\n",
      "      VWAP   mTIMESTAMP  \n",
      "0  2564.68  02-Jan-2023  \n",
      "1  2558.48  03-Jan-2023  \n",
      "2  2529.71  04-Jan-2023  \n",
      "3  2516.50  05-Jan-2023  \n",
      "4  2534.90  06-Jan-2023  \n",
      "\n",
      "[5 rows x 24 columns]\n"
     ]
    }
   ],
   "source": [
    "from nsepython import *\n",
    "import pandas as pd\n",
    "\n",
    "# Fetch stock data\n",
    "stock_data = equity_history(symbol=\"RELIANCE\", series=\"EQ\", start_date=\"01-01-2023\", end_date=\"01-02-2023\") \n",
    "\n",
    "# Convert to DataFrame\n",
    "df = pd.DataFrame(stock_data) \n",
    "\n",
    "# Display the DataFrame\n",
    "print(df.head())\n",
    "df.to_csv(\"test1.csv\")"
   ]
  },
  {
   "cell_type": "code",
   "execution_count": 23,
   "metadata": {},
   "outputs": [
    {
     "name": "stdout",
     "output_type": "stream",
     "text": [
      "2836\n"
     ]
    }
   ],
   "source": [
    "from mftool import Mftool\n",
    "# import json \n",
    "import pandas as pd\n",
    "\n",
    "mf = Mftool()\n",
    "\n",
    "# All Fund codes ------------------------------------------------\n",
    "data = mf.get_scheme_codes()  \n",
    "codes_dict_for_df = {\n",
    "    'codes' : list(data.keys())[1:],\n",
    "    'funds' : list(data.values())[1:]\n",
    "}\n",
    "# print(data.keys())\n",
    "df = pd.DataFrame.from_dict(codes_dict_for_df)\n",
    "df = df[df['funds'].str.contains(\"Direct\", na=False, case=False)]\n",
    "df = df[df['funds'].str.contains(\"Growth\", na=False, case=False)]\n",
    "df.to_csv(\"all_funds_codes.csv\")\n",
    "\n",
    "with open(\"all_funds_codes.json\", \"w\") as af_codes_json_f:\n",
    "    json.dump(data, af_codes_json_f, indent = 4)\n",
    "    # for k,v in data.items():\n",
    "    #     print(k ,v)\n",
    "    # print(data)\n",
    "\n",
    "\n",
    "# Fund NAV ------------------------------------------------\n",
    "data = mf.get_scheme_historical_nav(\"119551\") \n",
    "print(len(data['data']))\n",
    "# print(data['data'])\n",
    "\n",
    "# with open(\"all_funds_details.json\", \"w\") as af_details_json_f:\n",
    "#     print(mf.get_all_amc_profiles(), file=af_details_json_f)\n",
    "\n",
    "\n",
    "# Equity Based Funds ------------------------------------------------\n",
    "data = mf.get_open_ended_equity_scheme_performance(True) \n",
    "with open(\"all_equity_funds.json\", \"w\") as all_equity_funds_json_f:\n",
    "    json.dump(data, all_equity_funds_json_f, indent = 4)\n"
   ]
  },
  {
   "cell_type": "code",
   "execution_count": 2,
   "metadata": {},
   "outputs": [
    {
     "ename": "SyntaxError",
     "evalue": "invalid syntax. Perhaps you forgot a comma? (554678368.py, line 3)",
     "output_type": "error",
     "traceback": [
      "\u001b[1;36m  Cell \u001b[1;32mIn[2], line 3\u001b[1;36m\u001b[0m\n\u001b[1;33m    max(abs(a) abs(b))\u001b[0m\n\u001b[1;37m        ^\u001b[0m\n\u001b[1;31mSyntaxError\u001b[0m\u001b[1;31m:\u001b[0m invalid syntax. Perhaps you forgot a comma?\n"
     ]
    }
   ],
   "source": [
    "a=4\n",
    "b=-5\n",
    "max(abs(a) abs(b))"
   ]
  },
  {
   "cell_type": "code",
   "execution_count": null,
   "metadata": {},
   "outputs": [],
   "source": []
  }
 ],
 "metadata": {
  "kernelspec": {
   "display_name": "Python 3",
   "language": "python",
   "name": "python3"
  },
  "language_info": {
   "codemirror_mode": {
    "name": "ipython",
    "version": 3
   },
   "file_extension": ".py",
   "mimetype": "text/x-python",
   "name": "python",
   "nbconvert_exporter": "python",
   "pygments_lexer": "ipython3",
   "version": "3.12.2"
  }
 },
 "nbformat": 4,
 "nbformat_minor": 2
}
