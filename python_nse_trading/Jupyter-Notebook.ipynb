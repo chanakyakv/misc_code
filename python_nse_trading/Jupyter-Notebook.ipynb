{
 "cells": [
  {
   "cell_type": "code",
   "execution_count": 3,
   "metadata": {},
   "outputs": [
    {
     "name": "stdout",
     "output_type": "stream",
     "text": [
      "                        _id CH_SYMBOL CH_SERIES CH_MARKET_TYPE  \\\n",
      "0  63b2c77e66a1aa0006536313  RELIANCE        EQ              N   \n",
      "1  63b418e38fecc90007d82764  RELIANCE        EQ              N   \n",
      "2  63b56a62f99d030006fd882e  RELIANCE        EQ              N   \n",
      "3  63b6bbe10274fd0007036817  RELIANCE        EQ              N   \n",
      "4  642831c27a8f1d000733f637  RELIANCE        EQ              N   \n",
      "\n",
      "   CH_TRADE_HIGH_PRICE  CH_TRADE_LOW_PRICE  CH_OPENING_PRICE  \\\n",
      "0              2579.00              2548.2           2550.00   \n",
      "1              2573.00              2547.8           2565.05   \n",
      "2              2561.05              2514.0           2557.00   \n",
      "3              2536.40              2504.0           2523.50   \n",
      "4              2547.95              2518.3           2526.65   \n",
      "\n",
      "   CH_CLOSING_PRICE  CH_LAST_TRADED_PRICE  CH_PREVIOUS_CLS_PRICE  ...  \\\n",
      "0           2575.90               2577.90                2547.20  ...   \n",
      "1           2557.05               2555.80                2575.90  ...   \n",
      "2           2518.55               2516.65                2557.05  ...   \n",
      "3           2514.05               2521.80                2518.55  ...   \n",
      "4           2536.90               2537.00                2514.05  ...   \n",
      "\n",
      "   CH_TOTAL_TRADES       CH_ISIN  CH_TIMESTAMP                 TIMESTAMP  \\\n",
      "0            97175  INE002A01018    2023-01-02  2023-01-01T18:30:00.000Z   \n",
      "1           135268  INE002A01018    2023-01-03  2023-01-02T18:30:00.000Z   \n",
      "2           182754  INE002A01018    2023-01-04  2023-01-03T18:30:00.000Z   \n",
      "3           197434  INE002A01018    2023-01-05  2023-01-04T18:30:00.000Z   \n",
      "4           157118  INE002A01018    2023-01-06  2023-01-05T18:30:00.000Z   \n",
      "\n",
      "                  createdAt                 updatedAt __v SLBMH_TOT_VAL  \\\n",
      "0  2023-01-02T12:01:02.718Z  2023-01-02T12:01:02.718Z   0          None   \n",
      "1  2023-01-03T12:00:35.609Z  2023-01-03T12:00:35.609Z   0          None   \n",
      "2  2023-01-04T12:00:34.950Z  2023-01-04T12:00:34.950Z   0          None   \n",
      "3  2023-01-05T12:00:33.074Z  2023-01-05T12:00:33.074Z   0          None   \n",
      "4  2023-04-01T13:29:38.941Z  2023-04-01T13:29:38.941Z   0          None   \n",
      "\n",
      "      VWAP   mTIMESTAMP  \n",
      "0  2564.68  02-Jan-2023  \n",
      "1  2558.48  03-Jan-2023  \n",
      "2  2529.71  04-Jan-2023  \n",
      "3  2516.50  05-Jan-2023  \n",
      "4  2534.90  06-Jan-2023  \n",
      "\n",
      "[5 rows x 24 columns]\n"
     ]
    }
   ],
   "source": [
    "from nsepython import *\n",
    "import pandas as pd\n",
    "\n",
    "# Fetch stock data\n",
    "stock_data = equity_history(symbol=\"RELIANCE\", series=\"EQ\", start_date=\"01-01-2023\", end_date=\"01-02-2023\") \n",
    "\n",
    "# Convert to DataFrame\n",
    "df = pd.DataFrame(stock_data) \n",
    "\n",
    "# Display the DataFrame\n",
    "print(df.head())\n",
    "df.to_csv(\"test1.csv\")"
   ]
  },
  {
   "cell_type": "code",
   "execution_count": null,
   "metadata": {},
   "outputs": [],
   "source": []
  }
 ],
 "metadata": {
  "kernelspec": {
   "display_name": "Python 3",
   "language": "python",
   "name": "python3"
  },
  "language_info": {
   "codemirror_mode": {
    "name": "ipython",
    "version": 3
   },
   "file_extension": ".py",
   "mimetype": "text/x-python",
   "name": "python",
   "nbconvert_exporter": "python",
   "pygments_lexer": "ipython3",
   "version": "3.12.2"
  }
 },
 "nbformat": 4,
 "nbformat_minor": 2
}
